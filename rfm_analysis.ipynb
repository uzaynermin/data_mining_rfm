{
 "cells": [
  {
   "cell_type": "code",
   "execution_count": 5,
   "id": "b05c335f",
   "metadata": {},
   "outputs": [],
   "source": [
    "import numpy as np\n",
    "import pandas as pd\n",
    "from matplotlib import pyplot as plt\n",
    "import seaborn as sns"
   ]
  },
  {
   "cell_type": "code",
   "execution_count": 6,
   "id": "243c821a",
   "metadata": {},
   "outputs": [],
   "source": [
    "df = pd.read_csv('online_retail_II.csv', parse_dates=True, index_col='InvoiceDate')"
   ]
  },
  {
   "cell_type": "code",
   "execution_count": 7,
   "id": "1d92bc09",
   "metadata": {},
   "outputs": [
    {
     "data": {
      "text/html": [
       "<div>\n",
       "<style scoped>\n",
       "    .dataframe tbody tr th:only-of-type {\n",
       "        vertical-align: middle;\n",
       "    }\n",
       "\n",
       "    .dataframe tbody tr th {\n",
       "        vertical-align: top;\n",
       "    }\n",
       "\n",
       "    .dataframe thead th {\n",
       "        text-align: right;\n",
       "    }\n",
       "</style>\n",
       "<table border=\"1\" class=\"dataframe\">\n",
       "  <thead>\n",
       "    <tr style=\"text-align: right;\">\n",
       "      <th></th>\n",
       "      <th>Invoice</th>\n",
       "      <th>StockCode</th>\n",
       "      <th>Description</th>\n",
       "      <th>Quantity</th>\n",
       "      <th>Price</th>\n",
       "      <th>Customer ID</th>\n",
       "      <th>Country</th>\n",
       "    </tr>\n",
       "    <tr>\n",
       "      <th>InvoiceDate</th>\n",
       "      <th></th>\n",
       "      <th></th>\n",
       "      <th></th>\n",
       "      <th></th>\n",
       "      <th></th>\n",
       "      <th></th>\n",
       "      <th></th>\n",
       "    </tr>\n",
       "  </thead>\n",
       "  <tbody>\n",
       "    <tr>\n",
       "      <th>2009-12-01 07:45:00</th>\n",
       "      <td>489434</td>\n",
       "      <td>85048</td>\n",
       "      <td>15CM CHRISTMAS GLASS BALL 20 LIGHTS</td>\n",
       "      <td>12</td>\n",
       "      <td>6.95</td>\n",
       "      <td>13085.0</td>\n",
       "      <td>United Kingdom</td>\n",
       "    </tr>\n",
       "    <tr>\n",
       "      <th>2009-12-01 07:45:00</th>\n",
       "      <td>489434</td>\n",
       "      <td>79323P</td>\n",
       "      <td>PINK CHERRY LIGHTS</td>\n",
       "      <td>12</td>\n",
       "      <td>6.75</td>\n",
       "      <td>13085.0</td>\n",
       "      <td>United Kingdom</td>\n",
       "    </tr>\n",
       "    <tr>\n",
       "      <th>2009-12-01 07:45:00</th>\n",
       "      <td>489434</td>\n",
       "      <td>79323W</td>\n",
       "      <td>WHITE CHERRY LIGHTS</td>\n",
       "      <td>12</td>\n",
       "      <td>6.75</td>\n",
       "      <td>13085.0</td>\n",
       "      <td>United Kingdom</td>\n",
       "    </tr>\n",
       "    <tr>\n",
       "      <th>2009-12-01 07:45:00</th>\n",
       "      <td>489434</td>\n",
       "      <td>22041</td>\n",
       "      <td>RECORD FRAME 7\" SINGLE SIZE</td>\n",
       "      <td>48</td>\n",
       "      <td>2.10</td>\n",
       "      <td>13085.0</td>\n",
       "      <td>United Kingdom</td>\n",
       "    </tr>\n",
       "    <tr>\n",
       "      <th>2009-12-01 07:45:00</th>\n",
       "      <td>489434</td>\n",
       "      <td>21232</td>\n",
       "      <td>STRAWBERRY CERAMIC TRINKET BOX</td>\n",
       "      <td>24</td>\n",
       "      <td>1.25</td>\n",
       "      <td>13085.0</td>\n",
       "      <td>United Kingdom</td>\n",
       "    </tr>\n",
       "  </tbody>\n",
       "</table>\n",
       "</div>"
      ],
      "text/plain": [
       "                    Invoice StockCode                          Description  \\\n",
       "InvoiceDate                                                                  \n",
       "2009-12-01 07:45:00  489434     85048  15CM CHRISTMAS GLASS BALL 20 LIGHTS   \n",
       "2009-12-01 07:45:00  489434    79323P                   PINK CHERRY LIGHTS   \n",
       "2009-12-01 07:45:00  489434    79323W                  WHITE CHERRY LIGHTS   \n",
       "2009-12-01 07:45:00  489434     22041         RECORD FRAME 7\" SINGLE SIZE    \n",
       "2009-12-01 07:45:00  489434     21232       STRAWBERRY CERAMIC TRINKET BOX   \n",
       "\n",
       "                     Quantity  Price  Customer ID         Country  \n",
       "InvoiceDate                                                        \n",
       "2009-12-01 07:45:00        12   6.95      13085.0  United Kingdom  \n",
       "2009-12-01 07:45:00        12   6.75      13085.0  United Kingdom  \n",
       "2009-12-01 07:45:00        12   6.75      13085.0  United Kingdom  \n",
       "2009-12-01 07:45:00        48   2.10      13085.0  United Kingdom  \n",
       "2009-12-01 07:45:00        24   1.25      13085.0  United Kingdom  "
      ]
     },
     "execution_count": 7,
     "metadata": {},
     "output_type": "execute_result"
    }
   ],
   "source": [
    "df.head()"
   ]
  },
  {
   "cell_type": "code",
   "execution_count": 8,
   "id": "f713d704",
   "metadata": {},
   "outputs": [],
   "source": [
    "df_time = df[(df.index>='2011-04-01') & (df.index<='2011-12-09')]"
   ]
  },
  {
   "cell_type": "code",
   "execution_count": 9,
   "id": "cff1ae0f",
   "metadata": {},
   "outputs": [
    {
     "data": {
      "text/plain": [
       "Invoice            0\n",
       "StockCode          0\n",
       "Description      985\n",
       "Quantity           0\n",
       "Price              0\n",
       "Customer ID    88936\n",
       "Country            0\n",
       "dtype: int64"
      ]
     },
     "execution_count": 9,
     "metadata": {},
     "output_type": "execute_result"
    }
   ],
   "source": [
    "df_time.isnull().sum()"
   ]
  },
  {
   "cell_type": "code",
   "execution_count": 10,
   "id": "02b4bfce",
   "metadata": {},
   "outputs": [],
   "source": [
    "df_time = df_time[df_time['Customer ID'].notna()]"
   ]
  },
  {
   "cell_type": "code",
   "execution_count": 11,
   "id": "b34203e9",
   "metadata": {},
   "outputs": [],
   "source": [
    "df_time = df_time[~df_time.Invoice.str.contains('C')]"
   ]
  },
  {
   "cell_type": "code",
   "execution_count": 12,
   "id": "04059c44",
   "metadata": {},
   "outputs": [
    {
     "data": {
      "text/plain": [
       "(3932, 7)"
      ]
     },
     "execution_count": 12,
     "metadata": {},
     "output_type": "execute_result"
    }
   ],
   "source": [
    "df_time[df_time.duplicated()].shape"
   ]
  },
  {
   "cell_type": "code",
   "execution_count": 13,
   "id": "15ea0a2c",
   "metadata": {},
   "outputs": [],
   "source": [
    "df_time = df_time.drop_duplicates(keep='first')"
   ]
  },
  {
   "cell_type": "code",
   "execution_count": 14,
   "id": "5a9ab90f",
   "metadata": {},
   "outputs": [
    {
     "name": "stdout",
     "output_type": "stream",
     "text": [
      "0\n",
      "0\n"
     ]
    }
   ],
   "source": [
    "print((df_time.Quantity<0).sum())\n",
    "print((df_time.Price<0).sum())"
   ]
  },
  {
   "cell_type": "code",
   "execution_count": 15,
   "id": "ee1308bb",
   "metadata": {},
   "outputs": [],
   "source": [
    "# calculating Recency\n",
    "df_time['R'] = 12 - df_time.index.month"
   ]
  },
  {
   "cell_type": "code",
   "execution_count": 16,
   "id": "f7ae2423",
   "metadata": {},
   "outputs": [],
   "source": [
    "# creating a new column and initializing to 0\n",
    "df_time['F'] = 0\n",
    "\n",
    "# creating a list of unique customer ids\n",
    "customer_ids = list(df_time['Customer ID'].unique())\n",
    "\n",
    "# calculating and storing the number of transactions made by each customer\n",
    "for id in customer_ids:\n",
    "  df_time.loc[df_time['Customer ID']==id, 'F'] += df_time.groupby(by='Customer ID').Invoice.size()[id]"
   ]
  },
  {
   "cell_type": "code",
   "execution_count": 17,
   "id": "8af9781f",
   "metadata": {},
   "outputs": [],
   "source": [
    "# calculating and storing the revenue\n",
    "df_time['Revenue'] = df_time.Quantity * df_time.Price"
   ]
  },
  {
   "cell_type": "code",
   "execution_count": 18,
   "id": "1ed9d600",
   "metadata": {},
   "outputs": [],
   "source": [
    "# creating a new column and initializing to 0\n",
    "df_time['M'] = 0\n",
    "\n",
    "# adding the sum of the revenue generated by each customer\n",
    "for id in customer_ids:\n",
    "  df_time.loc[df_time['Customer ID']==id, 'M'] += df_time.groupby(by='Customer ID').Revenue.sum()[id]"
   ]
  },
  {
   "cell_type": "code",
   "execution_count": 19,
   "id": "fda1b1c8",
   "metadata": {},
   "outputs": [],
   "source": [
    "# creating a new dataframe\n",
    "df_rfm = pd.DataFrame(customer_ids, columns=['Customer ID'])"
   ]
  },
  {
   "cell_type": "code",
   "execution_count": 20,
   "id": "e2dd4528",
   "metadata": {},
   "outputs": [],
   "source": [
    "# creating new columns and initializing to 0\n",
    "df_rfm['R'] = 0\n",
    "df_rfm['F'] = 0\n",
    "df_rfm['M'] = 0\n",
    "\n",
    "# updating value of each column\n",
    "for id in customer_ids:\n",
    "    df_rfm.loc[df_rfm['Customer ID']==id, 'R'] += df_time.loc[df_time['Customer ID']==id, 'R'].values[0]\n",
    "    df_rfm.loc[df_rfm['Customer ID']==id, 'F'] += df_time.loc[df_time['Customer ID']==id, 'F'].values[0]\n",
    "    df_rfm.loc[df_rfm['Customer ID']==id, 'M'] += df_time.loc[df_time['Customer ID']==id, 'M'].values[0]"
   ]
  },
  {
   "cell_type": "code",
   "execution_count": 21,
   "id": "2a4205f4",
   "metadata": {},
   "outputs": [],
   "source": [
    "from sklearn.cluster import KMeans"
   ]
  },
  {
   "cell_type": "code",
   "execution_count": 22,
   "id": "2a573af0",
   "metadata": {},
   "outputs": [
    {
     "data": {
      "image/png": "[encoded data removed]",
      "text/plain": [
       "<Figure size 1080x576 with 1 Axes>"
      ]
     },
     "metadata": {
      "needs_background": "light"
     },
     "output_type": "display_data"
    }
   ],
   "source": [
    "# creating a list to store the within-the-cluster-sum-of-squared-distance\n",
    "wcss = []\n",
    "\n",
    "# looping over number of clusters and storing wcss\n",
    "for k in range(0, 10):\n",
    "  kmeans = KMeans(n_clusters=k+1, random_state=0).fit(df_rfm[['R', 'F', 'M']])\n",
    "  wcss.append(kmeans.inertia_)\n",
    "\n",
    "# plotting the wcss wrt cluster numbers\n",
    "plt.figure(figsize=(15,8))\n",
    "ax = sns.pointplot(x=list(range(1, 11)), y=wcss)\n",
    "ax.set_title('K-Means Clustering\\nNumber of Clusters vs Within Cluster Sum of Squares')\n",
    "ax.set_xlabel('Number of Clusters')\n",
    "ax.set_ylabel('Within Cluster Sum of Squares')\n",
    "plt.show()"
   ]
  },
  {
   "cell_type": "code",
   "execution_count": 23,
   "id": "9737b002",
   "metadata": {},
   "outputs": [],
   "source": [
    "# building the kmeans model\n",
    "kmeans = KMeans(n_clusters=3, random_state=0).fit(df_rfm[['R', 'F', 'M']])"
   ]
  },
  {
   "cell_type": "code",
   "execution_count": 24,
   "id": "d1608eb3",
   "metadata": {},
   "outputs": [],
   "source": [
    "# generating cluster labels\n",
    "df_rfm['labels'] = kmeans.labels_"
   ]
  },
  {
   "cell_type": "code",
   "execution_count": 25,
   "id": "d9f78af5",
   "metadata": {},
   "outputs": [
    {
     "data": {
      "text/plain": [
       "<seaborn.axisgrid.FacetGrid at 0x1f4698392e0>"
      ]
     },
     "execution_count": 25,
     "metadata": {},
     "output_type": "execute_result"
    },
    {
     "data": {
      "image/png": "[encoded data removed]",
      "text/plain": [
       "<Figure size 762.375x1800 with 9 Axes>"
      ]
     },
     "metadata": {
      "needs_background": "light"
     },
     "output_type": "display_data"
    }
   ],
   "source": [
    "# visualizing the clusters\n",
    "sns.lmplot(x='F', y='M', col='R', hue='labels', data=df_rfm, col_wrap=2, fit_reg=False, markers=['o', '^', 'D'])"
   ]
  },
  {
   "cell_type": "code",
   "execution_count": 26,
   "id": "6ebd7859",
   "metadata": {},
   "outputs": [
    {
     "data": {
      "text/plain": [
       "array([[5.00209644e+00, 6.99821803e+01, 1.22842223e+03],\n",
       "       [8.00000000e+00, 1.72525000e+03, 1.73486923e+05],\n",
       "       [7.68965517e+00, 8.59482759e+02, 3.93992303e+04]])"
      ]
     },
     "execution_count": 26,
     "metadata": {},
     "output_type": "execute_result"
    }
   ],
   "source": [
    "# printing the cluster centres\n",
    "kmeans.cluster_centers_"
   ]
  },
  {
   "cell_type": "code",
   "execution_count": 27,
   "id": "4084822d",
   "metadata": {},
   "outputs": [],
   "source": [
    "from sklearn.cluster import AgglomerativeClustering"
   ]
  },
  {
   "cell_type": "code",
   "execution_count": 28,
   "id": "64b3bc85",
   "metadata": {},
   "outputs": [],
   "source": [
    "# building agglomerative clustering model\n",
    "agglo = AgglomerativeClustering(n_clusters=3, compute_distances=True).fit(df_rfm[['R','F','M']])"
   ]
  },
  {
   "cell_type": "code",
   "execution_count": 29,
   "id": "0585fbff",
   "metadata": {},
   "outputs": [],
   "source": [
    "from scipy.cluster.hierarchy import dendrogram"
   ]
  },
  {
   "cell_type": "code",
   "execution_count": 30,
   "id": "33eb7a33",
   "metadata": {},
   "outputs": [
    {
     "data": {
      "image/png": "[encoded data removed]",
      "text/plain": [
       "<Figure size 1080x576 with 1 Axes>"
      ]
     },
     "metadata": {
      "needs_background": "light"
     },
     "output_type": "display_data"
    }
   ],
   "source": [
    "def plot_dendrogram(agglo, **kwargs):\n",
    "    \n",
    "    counts = np.zeros(agglo.children_.shape[0])\n",
    "    n_samples = len(agglo.labels_)\n",
    "    for i, merge in enumerate(agglo.children_):\n",
    "        current_count = 0\n",
    "        for child_idx in merge:\n",
    "            if child_idx < n_samples:\n",
    "                current_count += 1\n",
    "            else:\n",
    "                current_count += counts[child_idx - n_samples]\n",
    "        counts[i] = current_count\n",
    "\n",
    "    linkage_matrix = np.column_stack([agglo.children_, agglo.distances_, counts]).astype(float)\n",
    "\n",
    "    dendrogram(linkage_matrix, **kwargs)\n",
    "    \n",
    "\n",
    "plt.figure(figsize=(15,8))\n",
    "plt.title('Hierarchical Clustering Dendrogram')\n",
    "plot_dendrogram(agglo, truncate_mode='level', p=3)\n",
    "plt.show()"
   ]
  },
  {
   "cell_type": "code",
   "execution_count": 31,
   "id": "3a62615d",
   "metadata": {},
   "outputs": [],
   "source": [
    "# creating a list of labels generated by the kmeans model\n",
    "labels_kmeans = list(kmeans.labels_)\n",
    "\n",
    "# creating a list of labels generated by the agglomerative clustering model\n",
    "labels_agglo = list(agglo.labels_)"
   ]
  },
  {
   "cell_type": "code",
   "execution_count": 32,
   "id": "c1b5f2eb",
   "metadata": {},
   "outputs": [
    {
     "name": "stdout",
     "output_type": "stream",
     "text": [
      "Cluster 0 - KMeans:  3816\n",
      "Cluster 1 - KMeans:  4\n",
      "Cluster 2 - KMeans:  29\n",
      "\n",
      "Cluster 0 - Agglomerative:  33\n",
      "Cluster 1 - Agglomerative:  3\n",
      "Cluster 2 - Agglomerative:  3813\n"
     ]
    }
   ],
   "source": [
    "# printing the size of the kmeans clusters\n",
    "print('Cluster 0 - KMeans: ', labels_kmeans.count(0))\n",
    "print('Cluster 1 - KMeans: ', labels_kmeans.count(1))\n",
    "print('Cluster 2 - KMeans: ', labels_kmeans.count(2))\n",
    "\n",
    "print()\n",
    "\n",
    "# printing the size of the agglomerative clusters\n",
    "print('Cluster 0 - Agglomerative: ', labels_agglo.count(0))\n",
    "print('Cluster 1 - Agglomerative: ', labels_agglo.count(1))\n",
    "print('Cluster 2 - Agglomerative: ', labels_agglo.count(2))"
   ]
  },
  {
   "cell_type": "code",
   "execution_count": null,
   "id": "1181ac59",
   "metadata": {},
   "outputs": [],
   "source": []
  }
 ],
 "metadata": {
  "kernelspec": {
   "display_name": "Python 3 (ipykernel)",
   "language": "python",
   "name": "python3"
  },
  "language_info": {
   "codemirror_mode": {
    "name": "ipython",
    "version": 3
   },
   "file_extension": ".py",
   "mimetype": "text/x-python",
   "name": "python",
   "nbconvert_exporter": "python",
   "pygments_lexer": "ipython3",
   "version": "3.9.7"
  }
 },
 "nbformat": 4,
 "nbformat_minor": 5
}
